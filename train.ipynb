{
 "cells": [
  {
   "cell_type": "code",
   "execution_count": 118,
   "id": "d4e2d6e6",
   "metadata": {},
   "outputs": [],
   "source": [
    "import os \n",
    "import cv2\n",
    "import numpy as np\n",
    "from sklearn.preprocessing import OneHotEncoder"
   ]
  },
  {
   "cell_type": "code",
   "execution_count": 119,
   "id": "d90ab178",
   "metadata": {},
   "outputs": [
    {
     "name": "stdout",
     "output_type": "stream",
     "text": [
      "469\n",
      "584\n"
     ]
    }
   ],
   "source": [
    "down_images = len(os.listdir(os.path.join('images','down')))\n",
    "up_flipped = len(os.listdir(os.path.join('images','flip_up')))\n",
    "\n",
    "min_images = down_images +up_flipped\n",
    "print(min_images)\n",
    "\n",
    "nothing = len(os.listdir(os.path.join('images','nothing')))\n",
    "print(nothing)"
   ]
  },
  {
   "cell_type": "code",
   "execution_count": 120,
   "id": "889f7a05",
   "metadata": {},
   "outputs": [
    {
     "name": "stdout",
     "output_type": "stream",
     "text": [
      "images\\up\n",
      "Number of images 316\n",
      "[316, 0, 0, 0, 0]\n",
      "images\\down\n",
      "Number of images 181\n",
      "[316, 181, 0, 0, 0]\n",
      "images\\left\n",
      "Number of images 348\n",
      "[316, 181, 348, 0, 0]\n",
      "images\\right\n",
      "Number of images 369\n",
      "[316, 181, 348, 369, 0]\n",
      "images\\nothing\n",
      "Reached enough images\n",
      "Number of images 469\n",
      "[316, 181, 348, 369, 469]\n",
      "Total images loaded: 1683\n",
      "Images per class: [316, 181, 348, 369, 469]\n"
     ]
    }
   ],
   "source": [
    "images = []\n",
    "labels = []\n",
    "\n",
    "img_height, img_width = 96,96\n",
    "classes = [\"up\", \"down\", \"left\", \"right\", \"nothing\"]\n",
    "\n",
    "num_of_images = [0,0,0,0,0]\n",
    "\n",
    "\n",
    "down_images = len(os.listdir(os.path.join('images','down')))\n",
    "up_flipped = len(os.listdir(os.path.join('images','flip_up')))\n",
    "\n",
    "min_images = down_images +up_flipped\n",
    "\n",
    "\n",
    "for i in range(len(classes)):\n",
    "    a_class = classes[i]\n",
    "    folder_path = os.path.join('images',a_class) # grab each folder\n",
    "    print(folder_path)\n",
    "    counter = 0\n",
    "    for image in os.listdir(folder_path):\n",
    "        if counter == min_images:\n",
    "            print(\"Reached enough images\")\n",
    "            break\n",
    "        img_path = os.path.join(folder_path,image) # grab each image\n",
    "        img = cv2.imread(img_path)\n",
    "        if img is not None:\n",
    "            img = cv2.cvtColor(img, cv2.COLOR_BGR2RGB) # convert from BGR format to RGB\n",
    "            img = cv2.resize(img, (img_width,img_height))\n",
    "            img = img /255.0\n",
    "            \n",
    "            images.append(img)\n",
    "            labels.append(a_class)\n",
    "            counter += 1\n",
    "        \n",
    "    print(f\"Number of images {counter}\")\n",
    "    num_of_images[i] = counter\n",
    "    print(num_of_images)\n",
    "\n",
    "    \n",
    "print(f\"Total images loaded: {len(images)}\")\n",
    "print(f\"Images per class: {num_of_images}\")\n",
    "\n",
    "dict_no_of_images = dict(zip(classes, num_of_images))"
   ]
  },
  {
   "cell_type": "code",
   "execution_count": 121,
   "id": "e0929d2c",
   "metadata": {},
   "outputs": [
    {
     "name": "stdout",
     "output_type": "stream",
     "text": [
      "Added 469 flipped images from 'flip_up' labeled as 'down'\n",
      "Reached enough flipped images\n",
      "Added 469 flipped images from 'flip_down' labeled as 'up'\n",
      "Reached enough flipped images\n",
      "Added 469 flipped images from 'flip_left' labeled as 'right'\n",
      "Reached enough flipped images\n",
      "Added 469 flipped images from 'flip_right' labeled as 'left'\n",
      "Total Amount of images {'up': 469, 'down': 469, 'left': 469, 'right': 469, 'nothing': 469}\n",
      "[\"up\", \"down\", \"left\", \"right\", \"nothing\"]\n"
     ]
    }
   ],
   "source": [
    "## inserting flipped images\n",
    "flip_folders = {\n",
    "    'flip_up': 'down',      \n",
    "    'flip_down': 'up',\n",
    "    'flip_left': 'right',      \n",
    "    'flip_right': 'left',\n",
    "}\n",
    "\n",
    "\n",
    "\n",
    "for flip_folder, target_label in flip_folders.items():\n",
    "    folder_path = os.path.join('images', flip_folder)\n",
    "    image_counter = dict_no_of_images[target_label]\n",
    "    \n",
    "    if os.path.exists(folder_path):\n",
    "        counter = image_counter\n",
    "        \n",
    "        for image in os.listdir(folder_path):\n",
    "            if counter == min_images:\n",
    "                print(\"Reached enough flipped images\")\n",
    "                break\n",
    "                \n",
    "            img_path = os.path.join(folder_path, image)\n",
    "            img = cv2.imread(img_path)\n",
    "            \n",
    "            if img is not None:\n",
    "                img = cv2.cvtColor(img, cv2.COLOR_BGR2RGB)\n",
    "                img = cv2.resize(img, (img_width, img_height))\n",
    "                img = img / 255.0\n",
    "                \n",
    "                images.append(img)\n",
    "                labels.append(target_label)\n",
    "                counter += 1\n",
    "        \n",
    "        # Update num_of_images for the target class\n",
    "        target_class_index = classes.index(target_label)\n",
    "        dict_no_of_images[target_label] = counter\n",
    "        \n",
    "        print(f\"Added {counter} flipped images from '{flip_folder}' labeled as '{target_label}'\")\n",
    "\n",
    "\n",
    "\n",
    "print(f\"Total Amount of images {dict_no_of_images}\")\n",
    "print('[\"up\", \"down\", \"left\", \"right\", \"nothing\"]')\n",
    "\n",
    "\n"
   ]
  },
  {
   "cell_type": "code",
   "execution_count": 122,
   "id": "2771d4db",
   "metadata": {},
   "outputs": [
    {
     "name": "stdout",
     "output_type": "stream",
     "text": [
      "(2345, 5)\n",
      "[[1. 0. 0. 0. 0.]\n",
      " [1. 0. 0. 0. 0.]\n",
      " [1. 0. 0. 0. 0.]\n",
      " ...\n",
      " [0. 0. 1. 0. 0.]\n",
      " [0. 0. 1. 0. 0.]\n",
      " [0. 0. 1. 0. 0.]]\n"
     ]
    }
   ],
   "source": [
    "X = np.array(images)\n",
    "y = np.array(labels)\n",
    "\n",
    "# one hot encode the labels\n",
    "classes_to_index = {cls:idx for idx,cls in enumerate(classes)} # index: label for enum\n",
    "\n",
    "# fill up with 0s, for each example, \n",
    "y_onehot = np.zeros((len(y), len(classes))) #number of examples, number of classes\n",
    "for i, label in enumerate(y):\n",
    "    y_onehot[i, classes_to_index[label]] = 1 # first dimension: rows, second: column\n",
    "\n",
    "print(y_onehot.shape)\n",
    "print(y_onehot[:-5])"
   ]
  },
  {
   "cell_type": "code",
   "execution_count": 123,
   "id": "ef379930",
   "metadata": {},
   "outputs": [
    {
     "name": "stdout",
     "output_type": "stream",
     "text": [
      "Training set: (1876, 96, 96, 3), (1876, 5)\n",
      "Test set: (469, 96, 96, 3), (469, 5)\n"
     ]
    }
   ],
   "source": [
    "from sklearn.model_selection import train_test_split\n",
    "\n",
    "X_train, X_test, y_train, y_test = train_test_split(\n",
    "    X, y_onehot, test_size=0.2, random_state=42, stratify= y)\n",
    "\n",
    "\n",
    "print(f\"Training set: {X_train.shape}, {y_train.shape}\")\n",
    "print(f\"Test set: {X_test.shape}, {y_test.shape}\")\n"
   ]
  },
  {
   "cell_type": "code",
   "execution_count": null,
   "id": "6a99d65e",
   "metadata": {},
   "outputs": [
    {
     "name": "stdout",
     "output_type": "stream",
     "text": [
      "Epoch 1/10\n",
      "\u001b[1m59/59\u001b[0m \u001b[32m━━━━━━━━━━━━━━━━━━━━\u001b[0m\u001b[37m\u001b[0m \u001b[1m4s\u001b[0m 57ms/step - accuracy: 0.2841 - loss: 1.5536 - val_accuracy: 0.3817 - val_loss: 1.3705\n",
      "Epoch 2/10\n",
      "\u001b[1m59/59\u001b[0m \u001b[32m━━━━━━━━━━━━━━━━━━━━\u001b[0m\u001b[37m\u001b[0m \u001b[1m5s\u001b[0m 83ms/step - accuracy: 0.5101 - loss: 1.1576 - val_accuracy: 0.5842 - val_loss: 0.9714\n",
      "Epoch 3/10\n",
      "\u001b[1m59/59\u001b[0m \u001b[32m━━━━━━━━━━━━━━━━━━━━\u001b[0m\u001b[37m\u001b[0m \u001b[1m5s\u001b[0m 92ms/step - accuracy: 0.6354 - loss: 0.8865 - val_accuracy: 0.6119 - val_loss: 0.8737\n",
      "Epoch 4/10\n",
      "\u001b[1m59/59\u001b[0m \u001b[32m━━━━━━━━━━━━━━━━━━━━\u001b[0m\u001b[37m\u001b[0m \u001b[1m5s\u001b[0m 90ms/step - accuracy: 0.6914 - loss: 0.7776 - val_accuracy: 0.6397 - val_loss: 0.8088\n",
      "Epoch 5/10\n",
      "\u001b[1m59/59\u001b[0m \u001b[32m━━━━━━━━━━━━━━━━━━━━\u001b[0m\u001b[37m\u001b[0m \u001b[1m10s\u001b[0m 83ms/step - accuracy: 0.7511 - loss: 0.6009 - val_accuracy: 0.6780 - val_loss: 0.7552\n",
      "Epoch 6/10\n",
      "\u001b[1m59/59\u001b[0m \u001b[32m━━━━━━━━━━━━━━━━━━━━\u001b[0m\u001b[37m\u001b[0m \u001b[1m5s\u001b[0m 91ms/step - accuracy: 0.8204 - loss: 0.4833 - val_accuracy: 0.7207 - val_loss: 0.7487\n",
      "Epoch 7/10\n",
      "\u001b[1m59/59\u001b[0m \u001b[32m━━━━━━━━━━━━━━━━━━━━\u001b[0m\u001b[37m\u001b[0m \u001b[1m5s\u001b[0m 91ms/step - accuracy: 0.8449 - loss: 0.4233 - val_accuracy: 0.7249 - val_loss: 0.7249\n",
      "Epoch 8/10\n",
      "\u001b[1m59/59\u001b[0m \u001b[32m━━━━━━━━━━━━━━━━━━━━\u001b[0m\u001b[37m\u001b[0m \u001b[1m5s\u001b[0m 91ms/step - accuracy: 0.8689 - loss: 0.3424 - val_accuracy: 0.7122 - val_loss: 0.7352\n",
      "Epoch 9/10\n",
      "\u001b[1m59/59\u001b[0m \u001b[32m━━━━━━━━━━━━━━━━━━━━\u001b[0m\u001b[37m\u001b[0m \u001b[1m10s\u001b[0m 83ms/step - accuracy: 0.9094 - loss: 0.2559 - val_accuracy: 0.7399 - val_loss: 0.7617\n",
      "Epoch 10/10\n",
      "\u001b[1m59/59\u001b[0m \u001b[32m━━━━━━━━━━━━━━━━━━━━\u001b[0m\u001b[37m\u001b[0m \u001b[1m6s\u001b[0m 99ms/step - accuracy: 0.9227 - loss: 0.2136 - val_accuracy: 0.7463 - val_loss: 0.8007\n"
     ]
    },
    {
     "data": {
      "text/plain": [
       "<keras.src.callbacks.history.History at 0x2573e319400>"
      ]
     },
     "execution_count": 127,
     "metadata": {},
     "output_type": "execute_result"
    }
   ],
   "source": [
    "from tensorflow import keras\n",
    "from keras import layers\n",
    "\n",
    "# fml i think its overfitting so badly time to play more subway surfers \n",
    "## TODO: flip image to augment dataset\n",
    "model = keras.Sequential()\n",
    "\n",
    "# convolution layer\n",
    "model.add(layers.Conv2D(64, kernel_size=(3,3), activation='relu', input_shape=(img_height, img_width, 3)))\n",
    "\n",
    "# pooling layer\n",
    "model.add(layers.MaxPool2D(pool_size=(2,2)))\n",
    "model.add(layers.Conv2D(16, kernel_size=(3,3), activation='relu', input_shape=(img_height, img_width, 3)))\n",
    "model.add(layers.MaxPool2D(pool_size=(2,2)))\n",
    "model.add(layers.Flatten())\n",
    "\n",
    "## trad nn\n",
    "model.add(layers.Dense(128, activation='relu'))\n",
    "model.add(layers.Dropout(0.3)) # trying to reduce overfitting\n",
    "model.add(layers.Dense(5, activation=\"linear\"))  # 5 classes\n",
    "\n",
    "# categorical crossentropy \n",
    "# from_logits already applied softmax internally \n",
    "model.compile(\n",
    "\tloss=keras.losses.CategoricalCrossentropy(from_logits=True),\n",
    "\toptimizer='adam',\n",
    "\tmetrics=['accuracy']\n",
    ")\n",
    "\n",
    "# fit the model\n",
    "model.fit(X_train, y_train, batch_size=32, epochs=10, validation_data=(X_test, y_test))"
   ]
  },
  {
   "cell_type": "code",
   "execution_count": 128,
   "id": "4c4c4761",
   "metadata": {},
   "outputs": [
    {
     "name": "stdout",
     "output_type": "stream",
     "text": [
      "\u001b[1m15/15\u001b[0m \u001b[32m━━━━━━━━━━━━━━━━━━━━\u001b[0m\u001b[37m\u001b[0m \u001b[1m0s\u001b[0m 17ms/step\n",
      "Number of wrong predictions: 119 out of 469\n"
     ]
    },
    {
     "data": {
      "image/png": "[encoded data removed]",
      "text/plain": [
       "<Figure size 800x600 with 2 Axes>"
      ]
     },
     "metadata": {},
     "output_type": "display_data"
    },
    {
     "name": "stdout",
     "output_type": "stream",
     "text": [
      "\n",
      "Classification Report:\n",
      "              precision    recall  f1-score   support\n",
      "\n",
      "          up       0.76      0.76      0.76        94\n",
      "        down       0.87      0.85      0.86        94\n",
      "        left       0.69      0.73      0.71        93\n",
      "       right       0.77      0.80      0.78        94\n",
      "     nothing       0.64      0.60      0.62        94\n",
      "\n",
      "    accuracy                           0.75       469\n",
      "   macro avg       0.75      0.75      0.75       469\n",
      "weighted avg       0.75      0.75      0.75       469\n",
      "\n"
     ]
    }
   ],
   "source": [
    "\n",
    "\n",
    "# check whihch one wrong\n",
    "y_pred = model.predict(X_test)\n",
    "y_pred_classes = np.argmax(y_pred, axis=1)  \n",
    "y_true_classes = np.argmax(y_test, axis=1) \n",
    "\n",
    "# Find incorrectly predicted samples\n",
    "wrong_indices = np.where(y_pred_classes != y_true_classes)[0]\n",
    "print(f\"Number of wrong predictions: {len(wrong_indices)} out of {len(y_test)}\")\n",
    "\n",
    "# Create confusion matrix to see patterns in mistakes\n",
    "from sklearn.metrics import confusion_matrix, classification_report\n",
    "import seaborn as sns\n",
    "\n",
    "# Generate confusion matrix\n",
    "cm = confusion_matrix(y_true_classes, y_pred_classes)\n",
    "\n",
    "# Plot confusion matrix\n",
    "plt.figure(figsize=(8, 6))\n",
    "sns.heatmap(cm, annot=True, fmt='d', cmap='Blues', \n",
    "            xticklabels=classes, yticklabels=classes)\n",
    "plt.title('Confusion Matrix')\n",
    "plt.xlabel('Predicted')\n",
    "plt.ylabel('Actual')\n",
    "plt.show()\n",
    "\n",
    "# Print detailed classification report\n",
    "print(\"\\nClassification Report:\")\n",
    "print(classification_report(y_true_classes, y_pred_classes, \n",
    "                          target_names=classes))\n",
    "\n"
   ]
  },
  {
   "cell_type": "markdown",
   "id": "23d45ab2",
   "metadata": {},
   "source": [
    "74.6 Accuracy Rate\n",
    "Up / Down Confusion:\n",
    "- some obstacles have two ways of getting by it, and in my gameplay i used both ways so some labels might have been inaccurate\n",
    "\n",
    "Left and nothing (and right) seems to be mixed up more often\n",
    "- Apply a higher threshold for left and right actions when using the model for predictions"
   ]
  },
  {
   "cell_type": "code",
   "execution_count": 132,
   "id": "889036dd",
   "metadata": {},
   "outputs": [
    {
     "name": "stdout",
     "output_type": "stream",
     "text": [
      "Wrong predictions analysis:\n",
      "Index 7: True=nothing, Predicted=left, Confidence=521.5%\n",
      "Index 10: True=up, Predicted=down, Confidence=787.1%\n",
      "Index 12: True=nothing, Predicted=left, Confidence=502.3%\n",
      "Index 14: True=nothing, Predicted=left, Confidence=536.2%\n",
      "Index 15: True=left, Predicted=nothing, Confidence=438.6%\n",
      "Index 16: True=right, Predicted=down, Confidence=167.0%\n",
      "Index 18: True=left, Predicted=right, Confidence=837.0%\n",
      "Index 21: True=nothing, Predicted=right, Confidence=712.0%\n",
      "Index 25: True=right, Predicted=left, Confidence=870.0%\n",
      "Index 38: True=left, Predicted=up, Confidence=579.0%\n",
      "Index 41: True=left, Predicted=right, Confidence=696.0%\n",
      "Index 50: True=down, Predicted=up, Confidence=808.4%\n",
      "Index 51: True=nothing, Predicted=left, Confidence=810.9%\n",
      "Index 53: True=up, Predicted=down, Confidence=628.8%\n",
      "Index 55: True=up, Predicted=left, Confidence=644.9%\n",
      "Index 61: True=up, Predicted=nothing, Confidence=304.2%\n",
      "Index 64: True=right, Predicted=up, Confidence=264.9%\n",
      "Index 66: True=left, Predicted=right, Confidence=472.1%\n",
      "Index 68: True=nothing, Predicted=right, Confidence=407.8%\n",
      "Index 71: True=nothing, Predicted=up, Confidence=456.1%\n",
      "Index 74: True=nothing, Predicted=left, Confidence=707.1%\n",
      "Index 82: True=right, Predicted=left, Confidence=844.2%\n",
      "Index 91: True=right, Predicted=left, Confidence=353.7%\n",
      "Index 93: True=left, Predicted=nothing, Confidence=254.6%\n",
      "Index 98: True=nothing, Predicted=up, Confidence=314.3%\n",
      "Index 99: True=nothing, Predicted=left, Confidence=409.4%\n",
      "Index 102: True=right, Predicted=nothing, Confidence=505.4%\n",
      "Index 104: True=left, Predicted=right, Confidence=1334.1%\n",
      "Index 110: True=nothing, Predicted=right, Confidence=875.9%\n",
      "Index 118: True=left, Predicted=up, Confidence=408.1%\n",
      "Index 136: True=nothing, Predicted=up, Confidence=549.5%\n",
      "Index 137: True=nothing, Predicted=up, Confidence=269.4%\n",
      "Index 138: True=nothing, Predicted=left, Confidence=542.3%\n",
      "Index 140: True=left, Predicted=nothing, Confidence=538.7%\n",
      "Index 148: True=left, Predicted=right, Confidence=1051.2%\n",
      "Index 151: True=nothing, Predicted=right, Confidence=340.2%\n",
      "Index 152: True=down, Predicted=up, Confidence=610.2%\n",
      "Index 158: True=down, Predicted=up, Confidence=261.6%\n",
      "Index 167: True=nothing, Predicted=up, Confidence=345.6%\n",
      "Index 170: True=nothing, Predicted=right, Confidence=338.3%\n",
      "Index 172: True=right, Predicted=nothing, Confidence=378.6%\n",
      "Index 175: True=left, Predicted=nothing, Confidence=472.6%\n",
      "Index 185: True=nothing, Predicted=left, Confidence=436.6%\n",
      "Index 191: True=nothing, Predicted=left, Confidence=584.5%\n",
      "Index 193: True=nothing, Predicted=right, Confidence=531.9%\n",
      "Index 194: True=nothing, Predicted=left, Confidence=423.9%\n",
      "Index 195: True=nothing, Predicted=down, Confidence=774.5%\n",
      "Index 196: True=left, Predicted=nothing, Confidence=315.6%\n",
      "Index 199: True=up, Predicted=down, Confidence=263.8%\n",
      "Index 212: True=up, Predicted=down, Confidence=721.8%\n",
      "Index 213: True=up, Predicted=nothing, Confidence=444.4%\n",
      "Index 214: True=left, Predicted=right, Confidence=557.9%\n",
      "Index 216: True=nothing, Predicted=left, Confidence=626.4%\n",
      "Index 217: True=nothing, Predicted=right, Confidence=464.5%\n",
      "Index 219: True=down, Predicted=up, Confidence=737.6%\n",
      "Index 225: True=left, Predicted=nothing, Confidence=442.2%\n",
      "Index 226: True=left, Predicted=nothing, Confidence=512.1%\n",
      "Index 228: True=nothing, Predicted=right, Confidence=411.0%\n",
      "Index 233: True=down, Predicted=up, Confidence=370.8%\n",
      "Index 239: True=down, Predicted=up, Confidence=481.6%\n",
      "Index 241: True=left, Predicted=right, Confidence=868.9%\n",
      "Index 244: True=nothing, Predicted=left, Confidence=355.0%\n",
      "Index 252: True=up, Predicted=nothing, Confidence=436.4%\n",
      "Index 254: True=nothing, Predicted=left, Confidence=378.8%\n",
      "Index 259: True=up, Predicted=nothing, Confidence=302.9%\n",
      "Index 268: True=right, Predicted=left, Confidence=572.8%\n",
      "Index 274: True=left, Predicted=nothing, Confidence=630.3%\n",
      "Index 277: True=right, Predicted=left, Confidence=434.3%\n",
      "Index 282: True=nothing, Predicted=left, Confidence=173.4%\n",
      "Index 284: True=left, Predicted=nothing, Confidence=332.0%\n",
      "Index 285: True=right, Predicted=nothing, Confidence=472.7%\n",
      "Index 286: True=left, Predicted=nothing, Confidence=412.2%\n",
      "Index 292: True=right, Predicted=nothing, Confidence=440.3%\n",
      "Index 296: True=left, Predicted=right, Confidence=497.6%\n",
      "Index 306: True=down, Predicted=up, Confidence=528.9%\n",
      "Index 309: True=up, Predicted=nothing, Confidence=494.8%\n",
      "Index 314: True=right, Predicted=nothing, Confidence=384.1%\n",
      "Index 315: True=left, Predicted=nothing, Confidence=277.1%\n",
      "Index 319: True=nothing, Predicted=left, Confidence=872.8%\n",
      "Index 322: True=right, Predicted=nothing, Confidence=266.9%\n",
      "Index 324: True=up, Predicted=nothing, Confidence=558.5%\n",
      "Index 329: True=up, Predicted=down, Confidence=565.4%\n",
      "Index 330: True=nothing, Predicted=left, Confidence=559.8%\n",
      "Index 332: True=left, Predicted=right, Confidence=607.7%\n",
      "Index 335: True=up, Predicted=right, Confidence=419.8%\n",
      "Index 337: True=nothing, Predicted=right, Confidence=627.0%\n",
      "Index 343: True=down, Predicted=up, Confidence=822.9%\n",
      "Index 345: True=down, Predicted=nothing, Confidence=338.4%\n",
      "Index 351: True=nothing, Predicted=up, Confidence=518.4%\n",
      "Index 356: True=nothing, Predicted=left, Confidence=260.0%\n",
      "Index 357: True=right, Predicted=up, Confidence=598.7%\n",
      "Index 361: True=nothing, Predicted=left, Confidence=712.6%\n",
      "Index 365: True=up, Predicted=right, Confidence=354.5%\n",
      "Index 366: True=up, Predicted=left, Confidence=655.8%\n",
      "Index 369: True=nothing, Predicted=left, Confidence=595.5%\n",
      "Index 372: True=up, Predicted=left, Confidence=332.0%\n",
      "Index 373: True=down, Predicted=up, Confidence=759.5%\n",
      "Index 374: True=right, Predicted=down, Confidence=138.1%\n",
      "Index 377: True=up, Predicted=down, Confidence=393.8%\n",
      "Index 378: True=left, Predicted=nothing, Confidence=394.7%\n",
      "Index 381: True=down, Predicted=up, Confidence=469.2%\n",
      "Index 385: True=up, Predicted=nothing, Confidence=445.7%\n",
      "Index 394: True=left, Predicted=right, Confidence=464.2%\n",
      "Index 396: True=nothing, Predicted=left, Confidence=554.8%\n",
      "Index 403: True=right, Predicted=left, Confidence=121.7%\n",
      "Index 411: True=up, Predicted=left, Confidence=394.4%\n",
      "Index 412: True=up, Predicted=down, Confidence=803.5%\n",
      "Index 416: True=right, Predicted=nothing, Confidence=444.2%\n",
      "Index 417: True=nothing, Predicted=right, Confidence=421.1%\n",
      "Index 419: True=up, Predicted=down, Confidence=642.8%\n",
      "Index 423: True=up, Predicted=down, Confidence=1581.3%\n",
      "Index 430: True=nothing, Predicted=left, Confidence=293.2%\n",
      "Index 443: True=right, Predicted=nothing, Confidence=609.0%\n",
      "Index 447: True=down, Predicted=nothing, Confidence=655.2%\n",
      "Index 450: True=up, Predicted=nothing, Confidence=490.0%\n",
      "Index 451: True=down, Predicted=up, Confidence=638.6%\n",
      "Index 454: True=left, Predicted=right, Confidence=416.3%\n",
      "Index 463: True=right, Predicted=nothing, Confidence=277.4%\n",
      "Index 466: True=down, Predicted=up, Confidence=337.2%\n"
     ]
    }
   ],
   "source": [
    "# Analyze wrong predictions in detail\n",
    "import matplotlib.pyplot as plt\n",
    "\n",
    "# Create reverse mapping from index to class name\n",
    "index_to_class = {idx: cls for cls, idx in classes_to_index.items()}\n",
    "\n",
    "print(\"Wrong predictions analysis:\")\n",
    "for i in wrong_indices:  # Show wrong predictions\n",
    "    true_class = index_to_class[y_true_classes[i]]\n",
    "    pred_class = index_to_class[y_pred_classes[i]]\n",
    "    \n",
    "    confidence = np.max(y_pred[i]) * 100\n",
    "    \n",
    "    print(f\"Index {i}: True={true_class}, Predicted={pred_class}, Confidence={confidence:.1f}%\")"
   ]
  },
  {
   "cell_type": "code",
   "execution_count": null,
   "id": "faf55161",
   "metadata": {},
   "outputs": [
    {
     "name": "stdout",
     "output_type": "stream",
     "text": [
      "Saved 20 wrong predictions to 'wrong_predictions' folder\n"
     ]
    }
   ],
   "source": [
    "# Save wrong predictions for manual review\n",
    "def save_wrong_predictions():\n",
    "    import os\n",
    "    \n",
    "    # Create directory for wrong predictions\n",
    "    os.makedirs('wrong_predictions', exist_ok=True)\n",
    "    \n",
    "    for i, idx in enumerate(wrong_indices[:30]):  # Save first 30\n",
    "        true_class = index_to_class[y_true_classes[idx]]\n",
    "        pred_class = index_to_class[y_pred_classes[idx]]\n",
    "        confidence = np.max(y_pred[idx]) * 100\n",
    "        \n",
    "        # Convert image back to 0-255 \n",
    "        img_to_save = (X_test[idx] * 255).astype(np.uint8)\n",
    "        \n",
    "        filename = f\"wrong_{i:03d}_true_{true_class}_pred_{pred_class}_conf_{confidence:.0f}.png\"\n",
    "        filepath = os.path.join('wrong_predictions', filename)\n",
    "        \n",
    "        plt.imsave(filepath, img_to_save)\n",
    "    \n",
    "    print(f\"Saved to 'wrong_predictions' folder\")\n",
    "\n",
    "save_wrong_predictions()\n"
   ]
  },
  {
   "cell_type": "code",
   "execution_count": 133,
   "id": "0ec0b28f",
   "metadata": {},
   "outputs": [],
   "source": [
    "## save the model\n",
    "model.save(\"model/model_1.keras\")"
   ]
  },
  {
   "cell_type": "code",
   "execution_count": null,
   "id": "1895d842",
   "metadata": {},
   "outputs": [],
   "source": []
  }
 ],
 "metadata": {
  "kernelspec": {
   "display_name": ".venv",
   "language": "python",
   "name": "python3"
  },
  "language_info": {
   "codemirror_mode": {
    "name": "ipython",
    "version": 3
   },
   "file_extension": ".py",
   "mimetype": "text/x-python",
   "name": "python",
   "nbconvert_exporter": "python",
   "pygments_lexer": "ipython3",
   "version": "3.13.3"
  }
 },
 "nbformat": 4,
 "nbformat_minor": 5
}
