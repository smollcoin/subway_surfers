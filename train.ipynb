{
 "cells": [
  {
   "cell_type": "code",
   "execution_count": 30,
   "id": "d4e2d6e6",
   "metadata": {},
   "outputs": [],
   "source": [
    "import os \n",
    "import cv2\n",
    "import numpy as np\n",
    "from sklearn.preprocessing import OneHotEncoder"
   ]
  },
  {
   "cell_type": "code",
   "execution_count": 31,
   "id": "889f7a05",
   "metadata": {},
   "outputs": [
    {
     "name": "stdout",
     "output_type": "stream",
     "text": [
      "images\\up\n",
      "Number of images 249\n",
      "[249, 0, 0, 0, 0]\n",
      "images\\down\n",
      "Number of images 196\n",
      "[249, 196, 0, 0, 0]\n",
      "images\\left\n",
      "Reached enough images\n",
      "Number of images 250\n",
      "[249, 196, 250, 0, 0]\n",
      "images\\right\n",
      "Reached enough images\n",
      "Number of images 250\n",
      "[249, 196, 250, 250, 0]\n",
      "images\\nothing\n",
      "Reached enough images\n",
      "Number of images 250\n",
      "[249, 196, 250, 250, 250]\n",
      "Total images loaded: 1195\n",
      "Images per class: [249, 196, 250, 250, 250]\n"
     ]
    }
   ],
   "source": [
    "images = []\n",
    "labels = []\n",
    "\n",
    "img_height, img_width = 96,96\n",
    "classes = [\"up\", \"down\", \"left\", \"right\", \"nothing\"]\n",
    "\n",
    "num_of_images = [0,0,0,0,0]\n",
    "\n",
    "\n",
    "min_images = 250\n",
    "\n",
    "\n",
    "for i in range(len(classes)):\n",
    "    a_class = classes[i]\n",
    "    folder_path = os.path.join('images',a_class) # grab each folder\n",
    "    print(folder_path)\n",
    "    counter = 0\n",
    "    for image in os.listdir(folder_path):\n",
    "        if counter == min_images:\n",
    "            print(\"Reached enough images\")\n",
    "            break\n",
    "        img_path = os.path.join(folder_path,image) # grab each image\n",
    "        img = cv2.imread(img_path)\n",
    "        if img is not None:\n",
    "            img = cv2.cvtColor(img, cv2.COLOR_BGR2RGB)\n",
    "            img = cv2.resize(img, (img_width, img_height))\n",
    "            img = img / 255.0\n",
    "            \n",
    "            images.append(img)\n",
    "            labels.append(a_class)\n",
    "            counter += 1\n",
    "        \n",
    "    print(f\"Number of images {counter}\")\n",
    "    num_of_images[i] = counter\n",
    "    print(num_of_images)\n",
    "\n",
    "    \n",
    "print(f\"Total images loaded: {len(images)}\")\n",
    "print(f\"Images per class: {num_of_images}\")\n",
    "\n",
    "dict_no_of_images = dict(zip(classes, num_of_images))"
   ]
  },
  {
   "cell_type": "code",
   "execution_count": 32,
   "id": "2771d4db",
   "metadata": {},
   "outputs": [
    {
     "name": "stdout",
     "output_type": "stream",
     "text": [
      "(1195, 5)\n",
      "[[1. 0. 0. 0. 0.]\n",
      " [1. 0. 0. 0. 0.]\n",
      " [1. 0. 0. 0. 0.]\n",
      " ...\n",
      " [0. 0. 0. 0. 1.]\n",
      " [0. 0. 0. 0. 1.]\n",
      " [0. 0. 0. 0. 1.]]\n"
     ]
    }
   ],
   "source": [
    "X = np.array(images)\n",
    "y = np.array(labels)\n",
    "\n",
    "# one hot encode the labels\n",
    "classes_to_index = {cls:idx for idx,cls in enumerate(classes)} # index: label for enum\n",
    "\n",
    "# fill up with 0 for each example\n",
    "y_onehot = np.zeros((len(y), len(classes))) #number of examples, number of classes\n",
    "for i, label in enumerate(y):\n",
    "    y_onehot[i, classes_to_index[label]] = 1 # first dimension: rows, second: column\n",
    "\n",
    "print(y_onehot.shape)\n",
    "print(y_onehot[:-5])"
   ]
  },
  {
   "cell_type": "code",
   "execution_count": 33,
   "id": "ef379930",
   "metadata": {},
   "outputs": [
    {
     "name": "stdout",
     "output_type": "stream",
     "text": [
      "Training set: (956, 96, 96, 3), (956, 5)\n",
      "Test set: (239, 96, 96, 3), (239, 5)\n"
     ]
    }
   ],
   "source": [
    "# split the train and test set\n",
    "from sklearn.model_selection import train_test_split\n",
    "\n",
    "X_train, X_test, y_train, y_test = train_test_split(\n",
    "    X, y_onehot, test_size=0.2, random_state=42, stratify= y)\n",
    "\n",
    "\n",
    "print(f\"Training set: {X_train.shape}, {y_train.shape}\")\n",
    "print(f\"Test set: {X_test.shape}, {y_test.shape}\")\n"
   ]
  },
  {
   "cell_type": "code",
   "execution_count": 34,
   "id": "6a99d65e",
   "metadata": {},
   "outputs": [
    {
     "name": "stderr",
     "output_type": "stream",
     "text": [
      "c:\\Personal\\Tech_Projects\\AI_projects\\subway_surfers\\.venv\\Lib\\site-packages\\keras\\src\\layers\\convolutional\\base_conv.py:113: UserWarning: Do not pass an `input_shape`/`input_dim` argument to a layer. When using Sequential models, prefer using an `Input(shape)` object as the first layer in the model instead.\n",
      "  super().__init__(activity_regularizer=activity_regularizer, **kwargs)\n"
     ]
    },
    {
     "name": "stdout",
     "output_type": "stream",
     "text": [
      "Epoch 1/10\n",
      "\u001b[1m30/30\u001b[0m \u001b[32m━━━━━━━━━━━━━━━━━━━━\u001b[0m\u001b[37m\u001b[0m \u001b[1m5s\u001b[0m 102ms/step - accuracy: 0.2270 - loss: 1.6102 - val_accuracy: 0.2552 - val_loss: 1.5612\n",
      "Epoch 2/10\n",
      "\u001b[1m30/30\u001b[0m \u001b[32m━━━━━━━━━━━━━━━━━━━━\u001b[0m\u001b[37m\u001b[0m \u001b[1m2s\u001b[0m 79ms/step - accuracy: 0.3849 - loss: 1.4226 - val_accuracy: 0.5900 - val_loss: 1.1847\n",
      "Epoch 3/10\n",
      "\u001b[1m30/30\u001b[0m \u001b[32m━━━━━━━━━━━━━━━━━━━━\u001b[0m\u001b[37m\u001b[0m \u001b[1m2s\u001b[0m 78ms/step - accuracy: 0.6088 - loss: 1.0033 - val_accuracy: 0.6151 - val_loss: 0.9417\n",
      "Epoch 4/10\n",
      "\u001b[1m30/30\u001b[0m \u001b[32m━━━━━━━━━━━━━━━━━━━━\u001b[0m\u001b[37m\u001b[0m \u001b[1m2s\u001b[0m 79ms/step - accuracy: 0.6789 - loss: 0.7976 - val_accuracy: 0.6444 - val_loss: 0.8526\n",
      "Epoch 5/10\n",
      "\u001b[1m30/30\u001b[0m \u001b[32m━━━━━━━━━━━━━━━━━━━━\u001b[0m\u001b[37m\u001b[0m \u001b[1m2s\u001b[0m 77ms/step - accuracy: 0.7322 - loss: 0.6804 - val_accuracy: 0.7406 - val_loss: 0.6979\n",
      "Epoch 6/10\n",
      "\u001b[1m30/30\u001b[0m \u001b[32m━━━━━━━━━━━━━━━━━━━━\u001b[0m\u001b[37m\u001b[0m \u001b[1m2s\u001b[0m 80ms/step - accuracy: 0.7887 - loss: 0.5607 - val_accuracy: 0.7824 - val_loss: 0.6058\n",
      "Epoch 7/10\n",
      "\u001b[1m30/30\u001b[0m \u001b[32m━━━━━━━━━━━━━━━━━━━━\u001b[0m\u001b[37m\u001b[0m \u001b[1m2s\u001b[0m 78ms/step - accuracy: 0.8379 - loss: 0.4336 - val_accuracy: 0.7615 - val_loss: 0.6204\n",
      "Epoch 8/10\n",
      "\u001b[1m30/30\u001b[0m \u001b[32m━━━━━━━━━━━━━━━━━━━━\u001b[0m\u001b[37m\u001b[0m \u001b[1m2s\u001b[0m 78ms/step - accuracy: 0.8441 - loss: 0.4324 - val_accuracy: 0.7950 - val_loss: 0.5624\n",
      "Epoch 9/10\n",
      "\u001b[1m30/30\u001b[0m \u001b[32m━━━━━━━━━━━━━━━━━━━━\u001b[0m\u001b[37m\u001b[0m \u001b[1m2s\u001b[0m 78ms/step - accuracy: 0.8672 - loss: 0.3752 - val_accuracy: 0.8159 - val_loss: 0.5554\n",
      "Epoch 10/10\n",
      "\u001b[1m30/30\u001b[0m \u001b[32m━━━━━━━━━━━━━━━━━━━━\u001b[0m\u001b[37m\u001b[0m \u001b[1m3s\u001b[0m 85ms/step - accuracy: 0.8985 - loss: 0.2908 - val_accuracy: 0.8285 - val_loss: 0.5378\n"
     ]
    },
    {
     "data": {
      "text/plain": [
       "<keras.src.callbacks.history.History at 0x1b64b2379b0>"
      ]
     },
     "execution_count": 34,
     "metadata": {},
     "output_type": "execute_result"
    }
   ],
   "source": [
    "from tensorflow import keras\n",
    "from keras import layers\n",
    "\n",
    "# fml i think its overfitting so badly time to play more subway surfers \n",
    "\n",
    "model = keras.Sequential()\n",
    "\n",
    "# convolution layer\n",
    "model.add(layers.Conv2D(64, kernel_size=(3,3), activation='relu', input_shape=(img_height, img_width, 3)))\n",
    "# pooling layer\n",
    "model.add(layers.MaxPool2D(pool_size=(2,2)))\n",
    "\n",
    "# another one to learn more complex features\n",
    "model.add(layers.Conv2D(8, kernel_size=(3,3), activation='relu', input_shape=(img_height, img_width, 3)))\n",
    "model.add(layers.MaxPool2D(pool_size=(2,2)))\n",
    "model.add(layers.Flatten())\n",
    "\n",
    "## trad nn\n",
    "model.add(layers.Dense(64, activation='relu'))\n",
    "model.add(layers.Dropout(0.3)) # trying to reduce overfitting\n",
    "model.add(layers.Dense(5, activation=\"linear\"))  # 5 classes\n",
    "\n",
    "# categorical crossentropy \n",
    "# from_logits already applied softmax internally \n",
    "model.compile(\n",
    "\tloss=keras.losses.CategoricalCrossentropy(from_logits=True),\n",
    "\toptimizer='adam',\n",
    "\tmetrics=['accuracy']\n",
    ")\n",
    "\n",
    "# fit the model\n",
    "model.fit(X_train, y_train, batch_size=32, epochs=10, validation_data=(X_test, y_test))"
   ]
  },
  {
   "cell_type": "code",
   "execution_count": 35,
   "id": "4c4c4761",
   "metadata": {},
   "outputs": [
    {
     "name": "stdout",
     "output_type": "stream",
     "text": [
      "WARNING:tensorflow:5 out of the last 17 calls to <function TensorFlowTrainer.make_predict_function.<locals>.one_step_on_data_distributed at 0x000001B64C546340> triggered tf.function retracing. Tracing is expensive and the excessive number of tracings could be due to (1) creating @tf.function repeatedly in a loop, (2) passing tensors with different shapes, (3) passing Python objects instead of tensors. For (1), please define your @tf.function outside of the loop. For (2), @tf.function has reduce_retracing=True option that can avoid unnecessary retracing. For (3), please refer to https://www.tensorflow.org/guide/function#controlling_retracing and https://www.tensorflow.org/api_docs/python/tf/function for  more details.\n",
      "\u001b[1m8/8\u001b[0m \u001b[32m━━━━━━━━━━━━━━━━━━━━\u001b[0m\u001b[37m\u001b[0m \u001b[1m0s\u001b[0m 39ms/step\n",
      "Number of wrong predictions: 41 out of 239\n"
     ]
    },
    {
     "data": {
      "image/png": "[encoded data removed]",
      "text/plain": [
       "<Figure size 800x600 with 2 Axes>"
      ]
     },
     "metadata": {},
     "output_type": "display_data"
    },
    {
     "name": "stdout",
     "output_type": "stream",
     "text": [
      "\n",
      "Classification Report:\n",
      "              precision    recall  f1-score   support\n",
      "\n",
      "          up       0.80      0.94      0.86        50\n",
      "        down       0.97      0.90      0.93        39\n",
      "        left       0.80      0.86      0.83        50\n",
      "       right       0.81      0.86      0.83        50\n",
      "     nothing       0.81      0.60      0.69        50\n",
      "\n",
      "    accuracy                           0.83       239\n",
      "   macro avg       0.84      0.83      0.83       239\n",
      "weighted avg       0.83      0.83      0.82       239\n",
      "\n"
     ]
    }
   ],
   "source": [
    "import matplotlib.pyplot as plt\n",
    "\n",
    "# check whihch one wrong\n",
    "y_pred = model.predict(X_test)\n",
    "y_pred_classes = np.argmax(y_pred, axis=1)  \n",
    "y_true_classes = np.argmax(y_test, axis=1) \n",
    "\n",
    "# incorrectly predicted \n",
    "wrong_indices = np.where(y_pred_classes != y_true_classes)[0]\n",
    "print(f\"Number of wrong predictions: {len(wrong_indices)} out of {len(y_test)}\")\n",
    "\n",
    "\n",
    "from sklearn.metrics import confusion_matrix, classification_report\n",
    "import seaborn as sns\n",
    "\n",
    "#  confusion matrix\n",
    "cm = confusion_matrix(y_true_classes, y_pred_classes)\n",
    "\n",
    "# confusion matrix\n",
    "plt.figure(figsize=(8, 6))\n",
    "sns.heatmap(cm, annot=True, fmt='d', cmap='Blues', \n",
    "            xticklabels=classes, yticklabels=classes)\n",
    "plt.title('Confusion Matrix')\n",
    "plt.xlabel('Predicted')\n",
    "plt.ylabel('Actual')\n",
    "plt.show()\n",
    "\n",
    "\n",
    "print(\"\\nClassification Report:\")\n",
    "print(classification_report(y_true_classes, y_pred_classes, \n",
    "                          target_names=classes))\n",
    "\n"
   ]
  },
  {
   "cell_type": "code",
   "execution_count": 36,
   "id": "0ec0b28f",
   "metadata": {},
   "outputs": [],
   "source": [
    "## save the model\n",
    "model.save(\"model/model_9.keras\")"
   ]
  },
  {
   "cell_type": "code",
   "execution_count": null,
   "id": "1895d842",
   "metadata": {},
   "outputs": [],
   "source": []
  }
 ],
 "metadata": {
  "kernelspec": {
   "display_name": ".venv",
   "language": "python",
   "name": "python3"
  },
  "language_info": {
   "codemirror_mode": {
    "name": "ipython",
    "version": 3
   },
   "file_extension": ".py",
   "mimetype": "text/x-python",
   "name": "python",
   "nbconvert_exporter": "python",
   "pygments_lexer": "ipython3",
   "version": "3.13.3"
  }
 },
 "nbformat": 4,
 "nbformat_minor": 5
}
